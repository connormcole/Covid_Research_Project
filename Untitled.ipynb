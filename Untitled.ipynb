{
 "cells": [
  {
   "cell_type": "markdown",
   "id": "c17f482e",
   "metadata": {},
   "source": [
    "# Read the CSV and Perform Basic Data Cleaning"
   ]
  },
  {
   "cell_type": "code",
   "execution_count": 1,
   "id": "e3e234f1",
   "metadata": {},
   "outputs": [],
   "source": [
    "import warnings\n",
    "warnings.filterwarnings('ignore')\n",
    "import pandas as pd\n",
    "from pathlib import Path\n",
    "import matplotlib.pyplot as plt\n",
    "from sklearn.linear_model import LinearRegression"
   ]
  },
  {
   "cell_type": "code",
   "execution_count": 2,
   "id": "f337bfd4",
   "metadata": {},
   "outputs": [],
   "source": [
    "from sklearn.metrics import balanced_accuracy_score\n",
    "from sklearn.metrics import confusion_matrix\n",
    "from imblearn.metrics import classification_report_imbalanced\n",
    "from sklearn.model_selection import train_test_split\n",
    "from sklearn.linear_model import LogisticRegression\n",
    "from imblearn.over_sampling import SMOTE\n",
    "from imblearn.over_sampling import RandomOverSampler\n",
    "from collections import Counter\n",
    "from imblearn.under_sampling import ClusterCentroids\n",
    "from imblearn.combine import SMOTEENN\n",
    "from imblearn.ensemble import EasyEnsembleClassifier\n",
    "from sklearn import preprocessing\n",
    "from sklearn import utils"
   ]
  },
  {
   "cell_type": "code",
   "execution_count": 22,
   "id": "0de168d4",
   "metadata": {},
   "outputs": [
    {
     "data": {
      "text/html": [
       "<div>\n",
       "<style scoped>\n",
       "    .dataframe tbody tr th:only-of-type {\n",
       "        vertical-align: middle;\n",
       "    }\n",
       "\n",
       "    .dataframe tbody tr th {\n",
       "        vertical-align: top;\n",
       "    }\n",
       "\n",
       "    .dataframe thead th {\n",
       "        text-align: right;\n",
       "    }\n",
       "</style>\n",
       "<table border=\"1\" class=\"dataframe\">\n",
       "  <thead>\n",
       "    <tr style=\"text-align: right;\">\n",
       "      <th></th>\n",
       "      <th>state_id</th>\n",
       "      <th>date</th>\n",
       "      <th>new_cases</th>\n",
       "      <th>vaccinated_ratio</th>\n",
       "      <th>hospital_beds</th>\n",
       "      <th>new_deaths</th>\n",
       "      <th>infection_rate</th>\n",
       "      <th>population</th>\n",
       "      <th>requirements</th>\n",
       "    </tr>\n",
       "  </thead>\n",
       "  <tbody>\n",
       "    <tr>\n",
       "      <th>0</th>\n",
       "      <td>AK</td>\n",
       "      <td>2021-03-01</td>\n",
       "      <td>383</td>\n",
       "      <td>0.000</td>\n",
       "      <td>25</td>\n",
       "      <td>10</td>\n",
       "      <td>0.99</td>\n",
       "      <td>724357</td>\n",
       "      <td>f</td>\n",
       "    </tr>\n",
       "    <tr>\n",
       "      <th>1</th>\n",
       "      <td>AK</td>\n",
       "      <td>2021-03-02</td>\n",
       "      <td>154</td>\n",
       "      <td>0.000</td>\n",
       "      <td>27</td>\n",
       "      <td>1</td>\n",
       "      <td>0.99</td>\n",
       "      <td>724357</td>\n",
       "      <td>f</td>\n",
       "    </tr>\n",
       "    <tr>\n",
       "      <th>2</th>\n",
       "      <td>AK</td>\n",
       "      <td>2021-03-03</td>\n",
       "      <td>191</td>\n",
       "      <td>0.000</td>\n",
       "      <td>34</td>\n",
       "      <td>1</td>\n",
       "      <td>0.99</td>\n",
       "      <td>724357</td>\n",
       "      <td>f</td>\n",
       "    </tr>\n",
       "    <tr>\n",
       "      <th>3</th>\n",
       "      <td>AK</td>\n",
       "      <td>2021-03-04</td>\n",
       "      <td>148</td>\n",
       "      <td>0.000</td>\n",
       "      <td>32</td>\n",
       "      <td>0</td>\n",
       "      <td>0.99</td>\n",
       "      <td>724357</td>\n",
       "      <td>f</td>\n",
       "    </tr>\n",
       "    <tr>\n",
       "      <th>4</th>\n",
       "      <td>AK</td>\n",
       "      <td>2021-03-05</td>\n",
       "      <td>148</td>\n",
       "      <td>0.146</td>\n",
       "      <td>36</td>\n",
       "      <td>1</td>\n",
       "      <td>0.99</td>\n",
       "      <td>724357</td>\n",
       "      <td>f</td>\n",
       "    </tr>\n",
       "  </tbody>\n",
       "</table>\n",
       "</div>"
      ],
      "text/plain": [
       "  state_id        date  new_cases  vaccinated_ratio  hospital_beds  \\\n",
       "0       AK  2021-03-01        383             0.000             25   \n",
       "1       AK  2021-03-02        154             0.000             27   \n",
       "2       AK  2021-03-03        191             0.000             34   \n",
       "3       AK  2021-03-04        148             0.000             32   \n",
       "4       AK  2021-03-05        148             0.146             36   \n",
       "\n",
       "   new_deaths  infection_rate  population requirements  \n",
       "0          10            0.99      724357            f  \n",
       "1           1            0.99      724357            f  \n",
       "2           1            0.99      724357            f  \n",
       "3           0            0.99      724357            f  \n",
       "4           1            0.99      724357            f  "
      ]
     },
     "execution_count": 22,
     "metadata": {},
     "output_type": "execute_result"
    }
   ],
   "source": [
    "df = pd.read_csv(Path('./Machine_Learning/ml_table.csv', index_col = False))\n",
    "df.head()"
   ]
  },
  {
   "cell_type": "code",
   "execution_count": 23,
   "id": "9ec62e1c",
   "metadata": {},
   "outputs": [
    {
     "data": {
      "text/plain": [
       "state_id             object\n",
       "date                 object\n",
       "new_cases             int64\n",
       "vaccinated_ratio    float64\n",
       "hospital_beds         int64\n",
       "new_deaths            int64\n",
       "infection_rate      float64\n",
       "population            int64\n",
       "requirements         object\n",
       "dtype: object"
      ]
     },
     "execution_count": 23,
     "metadata": {},
     "output_type": "execute_result"
    }
   ],
   "source": [
    "df.dtypes"
   ]
  },
  {
   "cell_type": "code",
   "execution_count": 5,
   "id": "60c9576e",
   "metadata": {},
   "outputs": [],
   "source": [
    "# Drop the null columns where all values are null\n",
    "df = df.dropna(axis='columns', how='all')\n",
    "\n",
    "# Drop the null rows\n",
    "df = df.dropna()"
   ]
  },
  {
   "cell_type": "code",
   "execution_count": 6,
   "id": "b30d5dc6",
   "metadata": {},
   "outputs": [
    {
     "data": {
      "text/html": [
       "<div>\n",
       "<style scoped>\n",
       "    .dataframe tbody tr th:only-of-type {\n",
       "        vertical-align: middle;\n",
       "    }\n",
       "\n",
       "    .dataframe tbody tr th {\n",
       "        vertical-align: top;\n",
       "    }\n",
       "\n",
       "    .dataframe thead th {\n",
       "        text-align: right;\n",
       "    }\n",
       "</style>\n",
       "<table border=\"1\" class=\"dataframe\">\n",
       "  <thead>\n",
       "    <tr style=\"text-align: right;\">\n",
       "      <th></th>\n",
       "      <th>Date</th>\n",
       "      <th>Req</th>\n",
       "      <th>vaccinated_pct</th>\n",
       "      <th>monthly_new_cases_per_100k</th>\n",
       "      <th>infection_rate</th>\n",
       "      <th>hospital_beds_per_100k</th>\n",
       "      <th>new_deaths_per_100K</th>\n",
       "    </tr>\n",
       "  </thead>\n",
       "  <tbody>\n",
       "    <tr>\n",
       "      <th>0</th>\n",
       "      <td>2021-Mar-01</td>\n",
       "      <td>0</td>\n",
       "      <td>0</td>\n",
       "      <td>650.646021</td>\n",
       "      <td>1.08</td>\n",
       "      <td>6.212406</td>\n",
       "      <td>2.899123</td>\n",
       "    </tr>\n",
       "    <tr>\n",
       "      <th>1</th>\n",
       "      <td>2021-Apr-01</td>\n",
       "      <td>0</td>\n",
       "      <td>23</td>\n",
       "      <td>695.651454</td>\n",
       "      <td>1.07</td>\n",
       "      <td>8.283208</td>\n",
       "      <td>1.794695</td>\n",
       "    </tr>\n",
       "    <tr>\n",
       "      <th>2</th>\n",
       "      <td>2021-May-01</td>\n",
       "      <td>0</td>\n",
       "      <td>36</td>\n",
       "      <td>280.110498</td>\n",
       "      <td>0.85</td>\n",
       "      <td>8.697369</td>\n",
       "      <td>3.037176</td>\n",
       "    </tr>\n",
       "    <tr>\n",
       "      <th>3</th>\n",
       "      <td>2021-Jun-01</td>\n",
       "      <td>0</td>\n",
       "      <td>39</td>\n",
       "      <td>143.851720</td>\n",
       "      <td>1.17</td>\n",
       "      <td>3.175230</td>\n",
       "      <td>1.104428</td>\n",
       "    </tr>\n",
       "    <tr>\n",
       "      <th>4</th>\n",
       "      <td>2021-Jul-01</td>\n",
       "      <td>0</td>\n",
       "      <td>43</td>\n",
       "      <td>577.615734</td>\n",
       "      <td>1.40</td>\n",
       "      <td>15.600043</td>\n",
       "      <td>1.656642</td>\n",
       "    </tr>\n",
       "  </tbody>\n",
       "</table>\n",
       "</div>"
      ],
      "text/plain": [
       "          Date  Req  vaccinated_pct  monthly_new_cases_per_100k  \\\n",
       "0  2021-Mar-01    0               0                  650.646021   \n",
       "1  2021-Apr-01    0              23                  695.651454   \n",
       "2  2021-May-01    0              36                  280.110498   \n",
       "3  2021-Jun-01    0              39                  143.851720   \n",
       "4  2021-Jul-01    0              43                  577.615734   \n",
       "\n",
       "    infection_rate  hospital_beds_per_100k  new_deaths_per_100K  \n",
       "0             1.08                6.212406             2.899123  \n",
       "1             1.07                8.283208             1.794695  \n",
       "2             0.85                8.697369             3.037176  \n",
       "3             1.17                3.175230             1.104428  \n",
       "4             1.40               15.600043             1.656642  "
      ]
     },
     "execution_count": 6,
     "metadata": {},
     "output_type": "execute_result"
    }
   ],
   "source": [
    "# remove State\n",
    "df = df.drop('States',1)\n",
    "df.head()"
   ]
  },
  {
   "cell_type": "markdown",
   "id": "cba0d984",
   "metadata": {},
   "source": [
    "# Split the Data into Training and Testing"
   ]
  },
  {
   "cell_type": "code",
   "execution_count": 9,
   "id": "52e503e7",
   "metadata": {},
   "outputs": [],
   "source": [
    "# Create our features\n",
    "X = df.drop(\"Req\", axis=1)\n",
    "X = pd.get_dummies(X)\n",
    "\n",
    "# Create our target\n",
    "y = df[\"Req\"]"
   ]
  },
  {
   "cell_type": "code",
   "execution_count": 10,
   "id": "e41841b4",
   "metadata": {},
   "outputs": [
    {
     "data": {
      "text/html": [
       "<div>\n",
       "<style scoped>\n",
       "    .dataframe tbody tr th:only-of-type {\n",
       "        vertical-align: middle;\n",
       "    }\n",
       "\n",
       "    .dataframe tbody tr th {\n",
       "        vertical-align: top;\n",
       "    }\n",
       "\n",
       "    .dataframe thead th {\n",
       "        text-align: right;\n",
       "    }\n",
       "</style>\n",
       "<table border=\"1\" class=\"dataframe\">\n",
       "  <thead>\n",
       "    <tr style=\"text-align: right;\">\n",
       "      <th></th>\n",
       "      <th>vaccinated_pct</th>\n",
       "      <th>monthly_new_cases_per_100k</th>\n",
       "      <th>infection_rate</th>\n",
       "      <th>hospital_beds_per_100k</th>\n",
       "      <th>new_deaths_per_100K</th>\n",
       "      <th>Date_2021-Apr-01</th>\n",
       "      <th>Date_2021-Aug-01</th>\n",
       "      <th>Date_2021-Dec-01</th>\n",
       "      <th>Date_2021-Jul-01</th>\n",
       "      <th>Date_2021-Jun-01</th>\n",
       "      <th>Date_2021-Mar-01</th>\n",
       "      <th>Date_2021-May-01</th>\n",
       "      <th>Date_2021-Nov-01</th>\n",
       "      <th>Date_2021-Oct-01</th>\n",
       "      <th>Date_2021-Sep-01</th>\n",
       "      <th>Date_2022-Feb-01</th>\n",
       "      <th>Date_2022-Jan-01</th>\n",
       "    </tr>\n",
       "  </thead>\n",
       "  <tbody>\n",
       "    <tr>\n",
       "      <th>count</th>\n",
       "      <td>600.000000</td>\n",
       "      <td>600.000000</td>\n",
       "      <td>600.000000</td>\n",
       "      <td>600.000000</td>\n",
       "      <td>600.000000</td>\n",
       "      <td>600.000000</td>\n",
       "      <td>600.000000</td>\n",
       "      <td>600.000000</td>\n",
       "      <td>600.000000</td>\n",
       "      <td>600.000000</td>\n",
       "      <td>600.000000</td>\n",
       "      <td>600.000000</td>\n",
       "      <td>600.000000</td>\n",
       "      <td>600.000000</td>\n",
       "      <td>600.000000</td>\n",
       "      <td>600.000000</td>\n",
       "      <td>600.000000</td>\n",
       "    </tr>\n",
       "    <tr>\n",
       "      <th>mean</th>\n",
       "      <td>41.135000</td>\n",
       "      <td>1279.401952</td>\n",
       "      <td>1.115467</td>\n",
       "      <td>22.943839</td>\n",
       "      <td>10.430525</td>\n",
       "      <td>0.083333</td>\n",
       "      <td>0.083333</td>\n",
       "      <td>0.083333</td>\n",
       "      <td>0.083333</td>\n",
       "      <td>0.083333</td>\n",
       "      <td>0.083333</td>\n",
       "      <td>0.083333</td>\n",
       "      <td>0.083333</td>\n",
       "      <td>0.083333</td>\n",
       "      <td>0.083333</td>\n",
       "      <td>0.083333</td>\n",
       "      <td>0.083333</td>\n",
       "    </tr>\n",
       "    <tr>\n",
       "      <th>std</th>\n",
       "      <td>21.601647</td>\n",
       "      <td>1598.200066</td>\n",
       "      <td>0.210117</td>\n",
       "      <td>16.398961</td>\n",
       "      <td>8.354288</td>\n",
       "      <td>0.276616</td>\n",
       "      <td>0.276616</td>\n",
       "      <td>0.276616</td>\n",
       "      <td>0.276616</td>\n",
       "      <td>0.276616</td>\n",
       "      <td>0.276616</td>\n",
       "      <td>0.276616</td>\n",
       "      <td>0.276616</td>\n",
       "      <td>0.276616</td>\n",
       "      <td>0.276616</td>\n",
       "      <td>0.276616</td>\n",
       "      <td>0.276616</td>\n",
       "    </tr>\n",
       "    <tr>\n",
       "      <th>min</th>\n",
       "      <td>0.000000</td>\n",
       "      <td>30.485310</td>\n",
       "      <td>0.600000</td>\n",
       "      <td>0.000000</td>\n",
       "      <td>0.160449</td>\n",
       "      <td>0.000000</td>\n",
       "      <td>0.000000</td>\n",
       "      <td>0.000000</td>\n",
       "      <td>0.000000</td>\n",
       "      <td>0.000000</td>\n",
       "      <td>0.000000</td>\n",
       "      <td>0.000000</td>\n",
       "      <td>0.000000</td>\n",
       "      <td>0.000000</td>\n",
       "      <td>0.000000</td>\n",
       "      <td>0.000000</td>\n",
       "      <td>0.000000</td>\n",
       "    </tr>\n",
       "    <tr>\n",
       "      <th>25%</th>\n",
       "      <td>30.000000</td>\n",
       "      <td>332.114629</td>\n",
       "      <td>0.980000</td>\n",
       "      <td>9.997997</td>\n",
       "      <td>3.860593</td>\n",
       "      <td>0.000000</td>\n",
       "      <td>0.000000</td>\n",
       "      <td>0.000000</td>\n",
       "      <td>0.000000</td>\n",
       "      <td>0.000000</td>\n",
       "      <td>0.000000</td>\n",
       "      <td>0.000000</td>\n",
       "      <td>0.000000</td>\n",
       "      <td>0.000000</td>\n",
       "      <td>0.000000</td>\n",
       "      <td>0.000000</td>\n",
       "      <td>0.000000</td>\n",
       "    </tr>\n",
       "    <tr>\n",
       "      <th>50%</th>\n",
       "      <td>47.000000</td>\n",
       "      <td>768.965565</td>\n",
       "      <td>1.090000</td>\n",
       "      <td>17.734160</td>\n",
       "      <td>7.622336</td>\n",
       "      <td>0.000000</td>\n",
       "      <td>0.000000</td>\n",
       "      <td>0.000000</td>\n",
       "      <td>0.000000</td>\n",
       "      <td>0.000000</td>\n",
       "      <td>0.000000</td>\n",
       "      <td>0.000000</td>\n",
       "      <td>0.000000</td>\n",
       "      <td>0.000000</td>\n",
       "      <td>0.000000</td>\n",
       "      <td>0.000000</td>\n",
       "      <td>0.000000</td>\n",
       "    </tr>\n",
       "    <tr>\n",
       "      <th>75%</th>\n",
       "      <td>56.000000</td>\n",
       "      <td>1403.495785</td>\n",
       "      <td>1.290000</td>\n",
       "      <td>32.834167</td>\n",
       "      <td>15.077460</td>\n",
       "      <td>0.000000</td>\n",
       "      <td>0.000000</td>\n",
       "      <td>0.000000</td>\n",
       "      <td>0.000000</td>\n",
       "      <td>0.000000</td>\n",
       "      <td>0.000000</td>\n",
       "      <td>0.000000</td>\n",
       "      <td>0.000000</td>\n",
       "      <td>0.000000</td>\n",
       "      <td>0.000000</td>\n",
       "      <td>0.000000</td>\n",
       "      <td>0.000000</td>\n",
       "    </tr>\n",
       "    <tr>\n",
       "      <th>max</th>\n",
       "      <td>79.000000</td>\n",
       "      <td>10615.359830</td>\n",
       "      <td>1.770000</td>\n",
       "      <td>79.199522</td>\n",
       "      <td>47.610852</td>\n",
       "      <td>1.000000</td>\n",
       "      <td>1.000000</td>\n",
       "      <td>1.000000</td>\n",
       "      <td>1.000000</td>\n",
       "      <td>1.000000</td>\n",
       "      <td>1.000000</td>\n",
       "      <td>1.000000</td>\n",
       "      <td>1.000000</td>\n",
       "      <td>1.000000</td>\n",
       "      <td>1.000000</td>\n",
       "      <td>1.000000</td>\n",
       "      <td>1.000000</td>\n",
       "    </tr>\n",
       "  </tbody>\n",
       "</table>\n",
       "</div>"
      ],
      "text/plain": [
       "       vaccinated_pct  monthly_new_cases_per_100k   infection_rate  \\\n",
       "count      600.000000                  600.000000       600.000000   \n",
       "mean        41.135000                 1279.401952         1.115467   \n",
       "std         21.601647                 1598.200066         0.210117   \n",
       "min          0.000000                   30.485310         0.600000   \n",
       "25%         30.000000                  332.114629         0.980000   \n",
       "50%         47.000000                  768.965565         1.090000   \n",
       "75%         56.000000                 1403.495785         1.290000   \n",
       "max         79.000000                10615.359830         1.770000   \n",
       "\n",
       "       hospital_beds_per_100k  new_deaths_per_100K  Date_2021-Apr-01  \\\n",
       "count              600.000000           600.000000        600.000000   \n",
       "mean                22.943839            10.430525          0.083333   \n",
       "std                 16.398961             8.354288          0.276616   \n",
       "min                  0.000000             0.160449          0.000000   \n",
       "25%                  9.997997             3.860593          0.000000   \n",
       "50%                 17.734160             7.622336          0.000000   \n",
       "75%                 32.834167            15.077460          0.000000   \n",
       "max                 79.199522            47.610852          1.000000   \n",
       "\n",
       "       Date_2021-Aug-01  Date_2021-Dec-01  Date_2021-Jul-01  Date_2021-Jun-01  \\\n",
       "count        600.000000        600.000000        600.000000        600.000000   \n",
       "mean           0.083333          0.083333          0.083333          0.083333   \n",
       "std            0.276616          0.276616          0.276616          0.276616   \n",
       "min            0.000000          0.000000          0.000000          0.000000   \n",
       "25%            0.000000          0.000000          0.000000          0.000000   \n",
       "50%            0.000000          0.000000          0.000000          0.000000   \n",
       "75%            0.000000          0.000000          0.000000          0.000000   \n",
       "max            1.000000          1.000000          1.000000          1.000000   \n",
       "\n",
       "       Date_2021-Mar-01  Date_2021-May-01  Date_2021-Nov-01  Date_2021-Oct-01  \\\n",
       "count        600.000000        600.000000        600.000000        600.000000   \n",
       "mean           0.083333          0.083333          0.083333          0.083333   \n",
       "std            0.276616          0.276616          0.276616          0.276616   \n",
       "min            0.000000          0.000000          0.000000          0.000000   \n",
       "25%            0.000000          0.000000          0.000000          0.000000   \n",
       "50%            0.000000          0.000000          0.000000          0.000000   \n",
       "75%            0.000000          0.000000          0.000000          0.000000   \n",
       "max            1.000000          1.000000          1.000000          1.000000   \n",
       "\n",
       "       Date_2021-Sep-01  Date_2022-Feb-01  Date_2022-Jan-01  \n",
       "count        600.000000        600.000000        600.000000  \n",
       "mean           0.083333          0.083333          0.083333  \n",
       "std            0.276616          0.276616          0.276616  \n",
       "min            0.000000          0.000000          0.000000  \n",
       "25%            0.000000          0.000000          0.000000  \n",
       "50%            0.000000          0.000000          0.000000  \n",
       "75%            0.000000          0.000000          0.000000  \n",
       "max            1.000000          1.000000          1.000000  "
      ]
     },
     "execution_count": 10,
     "metadata": {},
     "output_type": "execute_result"
    }
   ],
   "source": [
    "X.describe()"
   ]
  },
  {
   "cell_type": "code",
   "execution_count": 11,
   "id": "6e82a798",
   "metadata": {},
   "outputs": [
    {
     "data": {
      "text/plain": [
       "0    444\n",
       "1    156\n",
       "Name: Req, dtype: int64"
      ]
     },
     "execution_count": 11,
     "metadata": {},
     "output_type": "execute_result"
    }
   ],
   "source": [
    "# Check the balance of our target values\n",
    "y.value_counts()"
   ]
  },
  {
   "cell_type": "code",
   "execution_count": 12,
   "id": "0ba498f4",
   "metadata": {},
   "outputs": [],
   "source": [
    "from sklearn.model_selection import train_test_split\n",
    "X_train, X_test, y_train, y_test = train_test_split(X, y, random_state=42)"
   ]
  },
  {
   "cell_type": "markdown",
   "id": "987c5dd3",
   "metadata": {},
   "source": [
    "# Ensemble Learners"
   ]
  },
  {
   "cell_type": "code",
   "execution_count": 13,
   "id": "594f1fd3",
   "metadata": {},
   "outputs": [],
   "source": [
    "# Resample the training data with the BalancedRandomForestClassifier\n",
    "from imblearn.ensemble import BalancedRandomForestClassifier\n",
    "random_forest = BalancedRandomForestClassifier(n_estimators = 100)\n",
    "random_forest = random_forest.fit(X_train, y_train)"
   ]
  },
  {
   "cell_type": "code",
   "execution_count": 14,
   "id": "edf8c839",
   "metadata": {},
   "outputs": [
    {
     "data": {
      "text/plain": [
       "0.501177394034537"
      ]
     },
     "execution_count": 14,
     "metadata": {},
     "output_type": "execute_result"
    }
   ],
   "source": [
    "# Calculated the balanced accuracy score\n",
    "from sklearn.metrics import balanced_accuracy_score\n",
    "y_predicted = random_forest.predict(X_test)\n",
    "balanced_accuracy_score(y_test, y_predicted)"
   ]
  },
  {
   "cell_type": "code",
   "execution_count": 15,
   "id": "903d6bd3",
   "metadata": {},
   "outputs": [
    {
     "data": {
      "text/plain": [
       "array([[53, 45],\n",
       "       [28, 24]], dtype=int64)"
      ]
     },
     "execution_count": 15,
     "metadata": {},
     "output_type": "execute_result"
    }
   ],
   "source": [
    "# Display the confusion matrix\n",
    "from sklearn.metrics import confusion_matrix\n",
    "confusion_matrix(y_test, y_predicted)"
   ]
  },
  {
   "cell_type": "code",
   "execution_count": 16,
   "id": "e09617a0",
   "metadata": {},
   "outputs": [
    {
     "name": "stdout",
     "output_type": "stream",
     "text": [
      "                   pre       rec       spe        f1       geo       iba       sup\n",
      "\n",
      "          0       0.65      0.54      0.46      0.59      0.50      0.25        98\n",
      "          1       0.35      0.46      0.54      0.40      0.50      0.25        52\n",
      "\n",
      "avg / total       0.55      0.51      0.49      0.52      0.50      0.25       150\n",
      "\n"
     ]
    }
   ],
   "source": [
    "# Print the imbalanced classification report\n",
    "print(classification_report_imbalanced(y_test, y_predicted))"
   ]
  },
  {
   "cell_type": "code",
   "execution_count": 17,
   "id": "24e701b3",
   "metadata": {},
   "outputs": [
    {
     "data": {
      "text/plain": [
       "[(0.19547926361960866, 'new_deaths_per_100K'),\n",
       " (0.19374792921937092, 'monthly_new_cases_per_100k'),\n",
       " (0.189008851845379, 'hospital_beds_per_100k'),\n",
       " (0.15942982693912686, ' infection_rate'),\n",
       " (0.14918904685251608, 'vaccinated_pct'),\n",
       " (0.01271865667522483, 'Date_2021-Nov-01'),\n",
       " (0.012039257397881297, 'Date_2021-Oct-01'),\n",
       " (0.010615285148235596, 'Date_2021-May-01'),\n",
       " (0.010406796435296427, 'Date_2021-Aug-01'),\n",
       " (0.009700900615472791, 'Date_2021-Dec-01'),\n",
       " (0.009086629362460717, 'Date_2021-Mar-01'),\n",
       " (0.009057702303335533, 'Date_2021-Sep-01'),\n",
       " (0.008624903778255278, 'Date_2021-Apr-01'),\n",
       " (0.008544321637480047, 'Date_2021-Jul-01'),\n",
       " (0.007963303970129882, 'Date_2021-Jun-01'),\n",
       " (0.0077659587745195395, 'Date_2022-Feb-01'),\n",
       " (0.006621365425706461, 'Date_2022-Jan-01')]"
      ]
     },
     "execution_count": 17,
     "metadata": {},
     "output_type": "execute_result"
    }
   ],
   "source": [
    "# List the features sorted in descending order by feature importance\n",
    "feature_names = X.columns\n",
    "sorted(zip(random_forest.feature_importances_, feature_names), reverse=True)"
   ]
  },
  {
   "cell_type": "markdown",
   "id": "660b09f4",
   "metadata": {},
   "source": [
    "# Easy Ensemble AdaBoost Classifier"
   ]
  },
  {
   "cell_type": "code",
   "execution_count": 18,
   "id": "73bd1b6b",
   "metadata": {},
   "outputs": [],
   "source": [
    "# Train the EasyEnsembleClassifier\n",
    "easy = EasyEnsembleClassifier(n_estimators = 100,random_state=1)\n",
    "easy = easy.fit(X_train, y_train)"
   ]
  },
  {
   "cell_type": "code",
   "execution_count": 19,
   "id": "5a989a64",
   "metadata": {},
   "outputs": [
    {
     "data": {
      "text/plain": [
       "0.5622056514913658"
      ]
     },
     "execution_count": 19,
     "metadata": {},
     "output_type": "execute_result"
    }
   ],
   "source": [
    "# Calculated the balanced accuracy score\n",
    "y_predicted = easy.predict(X_test)\n",
    "balanced_accuracy_score(y_test, y_predicted)"
   ]
  },
  {
   "cell_type": "code",
   "execution_count": 20,
   "id": "653a677b",
   "metadata": {},
   "outputs": [
    {
     "data": {
      "text/plain": [
       "array([[48, 50],\n",
       "       [19, 33]], dtype=int64)"
      ]
     },
     "execution_count": 20,
     "metadata": {},
     "output_type": "execute_result"
    }
   ],
   "source": [
    "# Display the confusion matrix\n",
    "confusion_matrix(y_test, y_predicted)"
   ]
  },
  {
   "cell_type": "code",
   "execution_count": 21,
   "id": "254317ea",
   "metadata": {},
   "outputs": [
    {
     "name": "stdout",
     "output_type": "stream",
     "text": [
      "                   pre       rec       spe        f1       geo       iba       sup\n",
      "\n",
      "          0       0.72      0.49      0.63      0.58      0.56      0.31        98\n",
      "          1       0.40      0.63      0.49      0.49      0.56      0.32        52\n",
      "\n",
      "avg / total       0.61      0.54      0.58      0.55      0.56      0.31       150\n",
      "\n"
     ]
    }
   ],
   "source": [
    "# Print the imbalanced classification report\n",
    "print(classification_report_imbalanced(y_test, y_predicted))"
   ]
  },
  {
   "cell_type": "code",
   "execution_count": null,
   "id": "17ecbe4d",
   "metadata": {},
   "outputs": [],
   "source": []
  }
 ],
 "metadata": {
  "kernelspec": {
   "display_name": "mlenv",
   "language": "python",
   "name": "mlenv"
  },
  "language_info": {
   "codemirror_mode": {
    "name": "ipython",
    "version": 3
   },
   "file_extension": ".py",
   "mimetype": "text/x-python",
   "name": "python",
   "nbconvert_exporter": "python",
   "pygments_lexer": "ipython3",
   "version": "3.7.11"
  }
 },
 "nbformat": 4,
 "nbformat_minor": 5
}
