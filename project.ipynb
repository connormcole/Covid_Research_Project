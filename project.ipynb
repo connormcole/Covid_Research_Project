{
 "cells": [
  {
   "cell_type": "code",
   "execution_count": 1,
   "id": "d243f122",
   "metadata": {},
   "outputs": [],
   "source": [
    "import pandas as pd\n",
    "import seaborn as sns\n",
    "import matplotlib.pyplot as plt\n",
    "import numpy as np"
   ]
  },
  {
   "cell_type": "code",
   "execution_count": 4,
   "id": "25c83483",
   "metadata": {},
   "outputs": [],
   "source": [
    "df = pd.read_csv('./Machine_Learning/')"
   ]
  },
  {
   "cell_type": "code",
   "execution_count": 5,
   "id": "f746d154",
   "metadata": {},
   "outputs": [
    {
     "data": {
      "text/html": [
       "<div>\n",
       "<style scoped>\n",
       "    .dataframe tbody tr th:only-of-type {\n",
       "        vertical-align: middle;\n",
       "    }\n",
       "\n",
       "    .dataframe tbody tr th {\n",
       "        vertical-align: top;\n",
       "    }\n",
       "\n",
       "    .dataframe thead th {\n",
       "        text-align: right;\n",
       "    }\n",
       "</style>\n",
       "<table border=\"1\" class=\"dataframe\">\n",
       "  <thead>\n",
       "    <tr style=\"text-align: right;\">\n",
       "      <th></th>\n",
       "      <th>date</th>\n",
       "      <th>country</th>\n",
       "      <th>state</th>\n",
       "      <th>county</th>\n",
       "      <th>fips</th>\n",
       "      <th>lat</th>\n",
       "      <th>long</th>\n",
       "      <th>locationId</th>\n",
       "      <th>actuals.cases</th>\n",
       "      <th>actuals.deaths</th>\n",
       "      <th>...</th>\n",
       "      <th>actuals.hsaIcuBeds.capacity</th>\n",
       "      <th>actuals.hsaIcuBeds.currentUsageTotal</th>\n",
       "      <th>actuals.hsaIcuBeds.currentUsageCovid</th>\n",
       "      <th>metrics.bedsWithCovidPatientsRatio</th>\n",
       "      <th>hsaName</th>\n",
       "      <th>actuals.hospitalBeds.weeklyCovidAdmissions</th>\n",
       "      <th>actuals.hsaHospitalBeds.weeklyCovidAdmissions</th>\n",
       "      <th>metrics.weeklyCovidAdmissionsPer100k</th>\n",
       "      <th>communityLevels.cdcCommunityLevel</th>\n",
       "      <th>communityLevels.canCommunityLevel</th>\n",
       "    </tr>\n",
       "  </thead>\n",
       "  <tbody>\n",
       "    <tr>\n",
       "      <th>0</th>\n",
       "      <td>2020-03-01</td>\n",
       "      <td>US</td>\n",
       "      <td>AK</td>\n",
       "      <td>NaN</td>\n",
       "      <td>2</td>\n",
       "      <td>NaN</td>\n",
       "      <td>NaN</td>\n",
       "      <td>iso1:us#iso2:us-ak</td>\n",
       "      <td>NaN</td>\n",
       "      <td>NaN</td>\n",
       "      <td>...</td>\n",
       "      <td>NaN</td>\n",
       "      <td>NaN</td>\n",
       "      <td>NaN</td>\n",
       "      <td>NaN</td>\n",
       "      <td>NaN</td>\n",
       "      <td>NaN</td>\n",
       "      <td>NaN</td>\n",
       "      <td>NaN</td>\n",
       "      <td>NaN</td>\n",
       "      <td>NaN</td>\n",
       "    </tr>\n",
       "    <tr>\n",
       "      <th>1</th>\n",
       "      <td>2020-03-02</td>\n",
       "      <td>US</td>\n",
       "      <td>AK</td>\n",
       "      <td>NaN</td>\n",
       "      <td>2</td>\n",
       "      <td>NaN</td>\n",
       "      <td>NaN</td>\n",
       "      <td>iso1:us#iso2:us-ak</td>\n",
       "      <td>NaN</td>\n",
       "      <td>NaN</td>\n",
       "      <td>...</td>\n",
       "      <td>NaN</td>\n",
       "      <td>NaN</td>\n",
       "      <td>NaN</td>\n",
       "      <td>NaN</td>\n",
       "      <td>NaN</td>\n",
       "      <td>NaN</td>\n",
       "      <td>NaN</td>\n",
       "      <td>NaN</td>\n",
       "      <td>NaN</td>\n",
       "      <td>NaN</td>\n",
       "    </tr>\n",
       "    <tr>\n",
       "      <th>2</th>\n",
       "      <td>2020-03-03</td>\n",
       "      <td>US</td>\n",
       "      <td>AK</td>\n",
       "      <td>NaN</td>\n",
       "      <td>2</td>\n",
       "      <td>NaN</td>\n",
       "      <td>NaN</td>\n",
       "      <td>iso1:us#iso2:us-ak</td>\n",
       "      <td>NaN</td>\n",
       "      <td>NaN</td>\n",
       "      <td>...</td>\n",
       "      <td>NaN</td>\n",
       "      <td>NaN</td>\n",
       "      <td>NaN</td>\n",
       "      <td>NaN</td>\n",
       "      <td>NaN</td>\n",
       "      <td>NaN</td>\n",
       "      <td>NaN</td>\n",
       "      <td>NaN</td>\n",
       "      <td>NaN</td>\n",
       "      <td>NaN</td>\n",
       "    </tr>\n",
       "    <tr>\n",
       "      <th>3</th>\n",
       "      <td>2020-03-04</td>\n",
       "      <td>US</td>\n",
       "      <td>AK</td>\n",
       "      <td>NaN</td>\n",
       "      <td>2</td>\n",
       "      <td>NaN</td>\n",
       "      <td>NaN</td>\n",
       "      <td>iso1:us#iso2:us-ak</td>\n",
       "      <td>NaN</td>\n",
       "      <td>NaN</td>\n",
       "      <td>...</td>\n",
       "      <td>NaN</td>\n",
       "      <td>NaN</td>\n",
       "      <td>NaN</td>\n",
       "      <td>NaN</td>\n",
       "      <td>NaN</td>\n",
       "      <td>NaN</td>\n",
       "      <td>NaN</td>\n",
       "      <td>NaN</td>\n",
       "      <td>NaN</td>\n",
       "      <td>NaN</td>\n",
       "    </tr>\n",
       "    <tr>\n",
       "      <th>4</th>\n",
       "      <td>2020-03-05</td>\n",
       "      <td>US</td>\n",
       "      <td>AK</td>\n",
       "      <td>NaN</td>\n",
       "      <td>2</td>\n",
       "      <td>NaN</td>\n",
       "      <td>NaN</td>\n",
       "      <td>iso1:us#iso2:us-ak</td>\n",
       "      <td>NaN</td>\n",
       "      <td>NaN</td>\n",
       "      <td>...</td>\n",
       "      <td>NaN</td>\n",
       "      <td>NaN</td>\n",
       "      <td>NaN</td>\n",
       "      <td>NaN</td>\n",
       "      <td>NaN</td>\n",
       "      <td>NaN</td>\n",
       "      <td>NaN</td>\n",
       "      <td>NaN</td>\n",
       "      <td>NaN</td>\n",
       "      <td>NaN</td>\n",
       "    </tr>\n",
       "  </tbody>\n",
       "</table>\n",
       "<p>5 rows × 59 columns</p>\n",
       "</div>"
      ],
      "text/plain": [
       "         date country state  county  fips  lat  long          locationId  \\\n",
       "0  2020-03-01      US    AK     NaN     2  NaN   NaN  iso1:us#iso2:us-ak   \n",
       "1  2020-03-02      US    AK     NaN     2  NaN   NaN  iso1:us#iso2:us-ak   \n",
       "2  2020-03-03      US    AK     NaN     2  NaN   NaN  iso1:us#iso2:us-ak   \n",
       "3  2020-03-04      US    AK     NaN     2  NaN   NaN  iso1:us#iso2:us-ak   \n",
       "4  2020-03-05      US    AK     NaN     2  NaN   NaN  iso1:us#iso2:us-ak   \n",
       "\n",
       "   actuals.cases  actuals.deaths  ...  actuals.hsaIcuBeds.capacity  \\\n",
       "0            NaN             NaN  ...                          NaN   \n",
       "1            NaN             NaN  ...                          NaN   \n",
       "2            NaN             NaN  ...                          NaN   \n",
       "3            NaN             NaN  ...                          NaN   \n",
       "4            NaN             NaN  ...                          NaN   \n",
       "\n",
       "   actuals.hsaIcuBeds.currentUsageTotal  actuals.hsaIcuBeds.currentUsageCovid  \\\n",
       "0                                   NaN                                   NaN   \n",
       "1                                   NaN                                   NaN   \n",
       "2                                   NaN                                   NaN   \n",
       "3                                   NaN                                   NaN   \n",
       "4                                   NaN                                   NaN   \n",
       "\n",
       "   metrics.bedsWithCovidPatientsRatio  hsaName  \\\n",
       "0                                 NaN      NaN   \n",
       "1                                 NaN      NaN   \n",
       "2                                 NaN      NaN   \n",
       "3                                 NaN      NaN   \n",
       "4                                 NaN      NaN   \n",
       "\n",
       "   actuals.hospitalBeds.weeklyCovidAdmissions  \\\n",
       "0                                         NaN   \n",
       "1                                         NaN   \n",
       "2                                         NaN   \n",
       "3                                         NaN   \n",
       "4                                         NaN   \n",
       "\n",
       "   actuals.hsaHospitalBeds.weeklyCovidAdmissions  \\\n",
       "0                                            NaN   \n",
       "1                                            NaN   \n",
       "2                                            NaN   \n",
       "3                                            NaN   \n",
       "4                                            NaN   \n",
       "\n",
       "   metrics.weeklyCovidAdmissionsPer100k  communityLevels.cdcCommunityLevel  \\\n",
       "0                                   NaN                                NaN   \n",
       "1                                   NaN                                NaN   \n",
       "2                                   NaN                                NaN   \n",
       "3                                   NaN                                NaN   \n",
       "4                                   NaN                                NaN   \n",
       "\n",
       "   communityLevels.canCommunityLevel  \n",
       "0                                NaN  \n",
       "1                                NaN  \n",
       "2                                NaN  \n",
       "3                                NaN  \n",
       "4                                NaN  \n",
       "\n",
       "[5 rows x 59 columns]"
      ]
     },
     "execution_count": 5,
     "metadata": {},
     "output_type": "execute_result"
    }
   ],
   "source": [
    "df.head()"
   ]
  },
  {
   "cell_type": "code",
   "execution_count": null,
   "id": "e04db177",
   "metadata": {},
   "outputs": [],
   "source": [
    "df.drop(['date'],axis = 1).corr()"
   ]
  },
  {
   "cell_type": "code",
   "execution_count": null,
   "id": "1b3d1609",
   "metadata": {},
   "outputs": [],
   "source": [
    "vaccination_data = df[['state','date','metrics.vaccinationsCompletedRatio']]"
   ]
  },
  {
   "cell_type": "code",
   "execution_count": null,
   "id": "0c02b438",
   "metadata": {},
   "outputs": [],
   "source": [
    "vaccination_data.set_index('date',inplace = True)\n"
   ]
  },
  {
   "cell_type": "code",
   "execution_count": null,
   "id": "92bc6b39",
   "metadata": {},
   "outputs": [],
   "source": [
    "#plt.xticks(rotation = 90)\n",
    "states = list(set(vaccination_data['state']))\n",
    "for state in states:\n",
    "    data = vaccination_data[vaccination_data['state'] == state]\n",
    "    data.drop('state',axis = 1).plot(rot = 90, title = state);"
   ]
  },
  {
   "cell_type": "markdown",
   "id": "05cae8b1",
   "metadata": {},
   "source": [
    "### vaccination vs hospitalization\n",
    "\n",
    "Question: Does the number of vaccinations affect the number of cases in the US?\n",
    "\n",
    "- H_0 = number of vaccines did not affect number of covid cases. Higher % vaccination => lower hospitalization rate?\n",
    "- H_A = number of vaccines did affect number of covid cases.\n"
   ]
  },
  {
   "cell_type": "code",
   "execution_count": null,
   "id": "368ee2aa",
   "metadata": {},
   "outputs": [],
   "source": [
    "vaccination_state_data = df[['date','metrics.bedsWithCovidPatientsRatio','metrics.vaccinationsCompletedRatio']]\n",
    "vaccination_state_data.head()"
   ]
  },
  {
   "cell_type": "code",
   "execution_count": null,
   "id": "7fbd16b0",
   "metadata": {},
   "outputs": [],
   "source": [
    "new_df = vaccination_state_data.groupby('date').mean()"
   ]
  },
  {
   "cell_type": "code",
   "execution_count": null,
   "id": "a622004b",
   "metadata": {},
   "outputs": [],
   "source": [
    "new_df.plot(rot = 90);"
   ]
  },
  {
   "cell_type": "code",
   "execution_count": null,
   "id": "1b1d7509",
   "metadata": {},
   "outputs": [],
   "source": [
    "sample1 = new_df[new_df['metrics.vaccinationsCompletedRatio']<0.50]\n",
    "sample2 = new_df[new_df['metrics.vaccinationsCompletedRatio']>=0.50]"
   ]
  },
  {
   "cell_type": "code",
   "execution_count": null,
   "id": "c1b5f98d",
   "metadata": {},
   "outputs": [],
   "source": [
    "from scipy.stats import ttest_ind\n",
    "import numpy as np\n",
    "\n",
    "sample1_mean = np.mean(sample1['metrics.bedsWithCovidPatientsRatio'])\n",
    "sample2_mean = np.mean(sample2['metrics.bedsWithCovidPatientsRatio'])\n",
    "print(\"sample1 mean hospitalization  ratio : \",sample1_mean)\n",
    "print(\"sample2 mean hospitalization ratio : \",sample2_mean)\n",
    "\n",
    "sample1_std = np.std(sample1['metrics.bedsWithCovidPatientsRatio'])\n",
    "sample2_std = np.std(sample2['metrics.bedsWithCovidPatientsRatio'])\n",
    "print(\"\\nsample1 std hospitalization  ratio : \",sample1_std)\n",
    "print(\"sample2 std hospitalization ratio : \",sample2_std)\n",
    "\n",
    "ttest,pval = ttest_ind(sample1['metrics.bedsWithCovidPatientsRatio'],sample2['metrics.bedsWithCovidPatientsRatio'])\n",
    "print(\"\\np-value\",np.round(pval,5))\n",
    "if pval <0.05:\n",
    "    print(\"we reject null hypothesis\")\n",
    "else:\n",
    "    print(\"we accept null hypothesis\")"
   ]
  },
  {
   "cell_type": "markdown",
   "id": "a81242c6",
   "metadata": {},
   "source": [
    "### vaccination vs transmission\n",
    "\n",
    "Question: Does the number of vaccinations affect the transmission rate of covid-19 virus in  US?\n",
    "\n",
    "- H_0 = Vaccination does not prevent COVID-19 transmission.\n",
    "- H_A = Vaccination helps prevent COVID-19 transmission \n"
   ]
  },
  {
   "cell_type": "code",
   "execution_count": null,
   "id": "eedc8791",
   "metadata": {},
   "outputs": [],
   "source": [
    "vaccination_state_data = df[['date','metrics.infectionRate','metrics.vaccinationsCompletedRatio']]\n",
    "vaccination_state_data.head()"
   ]
  },
  {
   "cell_type": "code",
   "execution_count": null,
   "id": "ec111922",
   "metadata": {},
   "outputs": [],
   "source": [
    "new_df = vaccination_state_data.groupby('date').mean()\n",
    "new_df.plot(rot = 90)"
   ]
  },
  {
   "cell_type": "code",
   "execution_count": null,
   "id": "d0e38373",
   "metadata": {},
   "outputs": [],
   "source": [
    "sample1 = new_df[new_df['metrics.vaccinationsCompletedRatio']<0.50]\n",
    "sample2 = new_df[new_df['metrics.vaccinationsCompletedRatio']>=0.50]"
   ]
  },
  {
   "cell_type": "code",
   "execution_count": null,
   "id": "9ba69da2",
   "metadata": {},
   "outputs": [],
   "source": [
    "from scipy.stats import ttest_ind\n",
    "import numpy as np\n",
    "\n",
    "sample1_mean = np.mean(sample1['metrics.infectionRate'])\n",
    "sample2_mean = np.mean(sample2['metrics.infectionRate'])\n",
    "print(\"sample1 mean transmission  ratio : \",sample1_mean)\n",
    "print(\"sample2 mean transmission ratio : \",sample2_mean)\n",
    "\n",
    "sample1_std = np.std(sample1['metrics.infectionRate'])\n",
    "sample2_std = np.std(sample2['metrics.infectionRate'])\n",
    "print(\"\\nsample1 std transmission  ratio : \",sample1_std)\n",
    "print(\"sample2 std transmission ratio : \",sample2_std)\n",
    "\n",
    "ttest,pval = ttest_ind(sample1['metrics.infectionRate'],sample2['metrics.infectionRate'])\n",
    "print(\"\\np-value\",np.round(pval,5))\n",
    "if pval <0.05:\n",
    "    print(\"we reject null hypothesis\")\n",
    "else:\n",
    "    print(\"we accept null hypothesis\")"
   ]
  },
  {
   "cell_type": "markdown",
   "id": "02c9ca3f",
   "metadata": {},
   "source": [
    "### Vaccination vs death rate\n",
    "\n",
    "Question: Does the number of vaccinations affect the number of death in the US?\n",
    "\n",
    "- H_0 = Vaccination does not prevent COVID-19 death.\n",
    "- H_A = Vaccination helps prevent COVID-19 death \n"
   ]
  },
  {
   "cell_type": "code",
   "execution_count": null,
   "id": "ea269cd6",
   "metadata": {},
   "outputs": [],
   "source": [
    "vaccination_state_data = df[['date','actuals.newDeaths','metrics.vaccinationsCompletedRatio']]\n",
    "vaccination_state_data.head()"
   ]
  },
  {
   "cell_type": "code",
   "execution_count": null,
   "id": "87b5e056",
   "metadata": {},
   "outputs": [],
   "source": [
    "new_df = vaccination_state_data.groupby('date').mean()\n",
    "new_df.plot(rot = 90);"
   ]
  },
  {
   "cell_type": "code",
   "execution_count": null,
   "id": "661cf804",
   "metadata": {},
   "outputs": [],
   "source": [
    "sample1 = new_df[new_df['metrics.vaccinationsCompletedRatio']<0.50]\n",
    "sample2 = new_df[new_df['metrics.vaccinationsCompletedRatio']>=0.50]"
   ]
  },
  {
   "cell_type": "code",
   "execution_count": null,
   "id": "c4505497",
   "metadata": {},
   "outputs": [],
   "source": [
    "from scipy.stats import ttest_ind\n",
    "import numpy as np\n",
    "\n",
    "sample1_mean = np.mean(sample1['actuals.newDeaths'])\n",
    "sample2_mean = np.mean(sample2['actuals.newDeaths'])\n",
    "print(\"sample1 mean new Deaths : \",sample1_mean)\n",
    "print(\"sample2 mean new Deaths : \",sample2_mean)\n",
    "\n",
    "sample1_std = np.std(sample1['actuals.newDeaths'])\n",
    "sample2_std = np.std(sample2['actuals.newDeaths'])\n",
    "print(\"\\nsample1 std new Deaths : \",sample1_std)\n",
    "print(\"sample2 std new Deaths : \",sample2_std)\n",
    "\n",
    "ttest,pval = ttest_ind(sample1['actuals.newDeaths'],sample2['actuals.newDeaths'])\n",
    "print(\"\\np-value\",np.round(pval,5))\n",
    "if pval <0.05:\n",
    "    print(\"we reject null hypothesis\")\n",
    "else:\n",
    "    print(\"we accept null hypothesis\")"
   ]
  },
  {
   "cell_type": "markdown",
   "id": "023712b2",
   "metadata": {},
   "source": [
    "### results\n",
    "\n",
    "from the above hypothesis testing we conclude that\n",
    "- vaccination prevents new number of cases/hospitalization\n",
    "- vaccination reduces transmission rate\n",
    "- vaccination prevents new death"
   ]
  },
  {
   "cell_type": "markdown",
   "id": "d682fddc",
   "metadata": {},
   "source": [
    "#### Machine Learning model"
   ]
  },
  {
   "cell_type": "code",
   "execution_count": null,
   "id": "a197654a",
   "metadata": {},
   "outputs": [],
   "source": [
    "df.head()"
   ]
  },
  {
   "cell_type": "code",
   "execution_count": null,
   "id": "2a476018",
   "metadata": {},
   "outputs": [],
   "source": [
    "new_df = df.drop(['date','state','state_name'],axis = 1)"
   ]
  },
  {
   "cell_type": "code",
   "execution_count": null,
   "id": "159eb728",
   "metadata": {},
   "outputs": [],
   "source": [
    "X = new_df.drop('actuals.newCases',axis = 1)\n",
    "y = new_df['actuals.newCases']"
   ]
  },
  {
   "cell_type": "code",
   "execution_count": null,
   "id": "e9bd397d",
   "metadata": {},
   "outputs": [],
   "source": [
    "from sklearn.model_selection import train_test_split\n",
    "\n",
    "X_train , X_test , y_train , y_test = train_test_split(X,y)"
   ]
  },
  {
   "cell_type": "code",
   "execution_count": null,
   "id": "ee2728f6",
   "metadata": {},
   "outputs": [],
   "source": [
    "from sklearn.preprocessing import StandardScaler"
   ]
  },
  {
   "cell_type": "code",
   "execution_count": null,
   "id": "07ee06dc",
   "metadata": {},
   "outputs": [],
   "source": [
    "scaler = StandardScaler()\n",
    "scaler.fit(X_train)\n",
    "\n",
    "X_train_std = scaler.transform(X_train)\n",
    "X_test_std = scaler.transform(X_test)"
   ]
  },
  {
   "cell_type": "code",
   "execution_count": null,
   "id": "db28ab39",
   "metadata": {},
   "outputs": [],
   "source": [
    "from sklearn.linear_model import LinearRegression\n",
    "\n",
    "lr = LinearRegression().fit(X_train_std, y_train)"
   ]
  },
  {
   "cell_type": "code",
   "execution_count": null,
   "id": "d2811ff6",
   "metadata": {},
   "outputs": [],
   "source": [
    "from sklearn.metrics import mean_absolute_error , r2_score\n",
    "\n",
    "y_train_pred = lr.predict(X_train_std)\n",
    "y_test_pred = lr.predict(X_test_std)\n",
    "\n",
    "\n",
    "print('Train mae ' , mean_absolute_error(y_train , y_train_pred))\n",
    "print('Test mae ' , mean_absolute_error(y_test , y_test_pred))\n",
    "\n",
    "\n",
    "print('Train r2_score ' , r2_score(y_train , y_train_pred))\n",
    "print('Test r2_score ' , r2_score(y_test , y_test_pred))"
   ]
  },
  {
   "cell_type": "code",
   "execution_count": null,
   "id": "4fef0918",
   "metadata": {},
   "outputs": [],
   "source": [
    "y_train.mean()"
   ]
  },
  {
   "cell_type": "code",
   "execution_count": null,
   "id": "c2d3169d",
   "metadata": {},
   "outputs": [],
   "source": [
    "from sklearn.ensemble import RandomForestRegressor\n",
    "\n",
    "rf = RandomForestRegressor().fit(X_train_std, y_train)"
   ]
  },
  {
   "cell_type": "code",
   "execution_count": null,
   "id": "97d70ebf",
   "metadata": {},
   "outputs": [],
   "source": [
    "from sklearn.metrics import mean_absolute_error , r2_score\n",
    "\n",
    "y_train_pred = rf.predict(X_train_std)\n",
    "y_test_pred = rf.predict(X_test_std)\n",
    "\n",
    "\n",
    "print('Train mae ' , mean_absolute_error(y_train , y_train_pred))\n",
    "print('Test mae ' , mean_absolute_error(y_test , y_test_pred))\n",
    "\n",
    "\n",
    "print('Train r2_score ' , r2_score(y_train , y_train_pred))\n",
    "print('Test r2_score ' , r2_score(y_test , y_test_pred))"
   ]
  },
  {
   "cell_type": "code",
   "execution_count": null,
   "id": "9a04a71a",
   "metadata": {},
   "outputs": [],
   "source": [
    "rf_tuned = RandomForestRegressor(n_estimators=500 , max_depth=10).fit(X_train_std, y_train)"
   ]
  },
  {
   "cell_type": "code",
   "execution_count": null,
   "id": "fc7d869d",
   "metadata": {},
   "outputs": [],
   "source": [
    "from sklearn.metrics import mean_absolute_error , r2_score\n",
    "\n",
    "y_train_pred = rf_tuned.predict(X_train_std)\n",
    "y_test_pred = rf_tuned.predict(X_test_std)\n",
    "\n",
    "\n",
    "print('Train mae ' , mean_absolute_error(y_train , y_train_pred))\n",
    "print('Test mae ' , mean_absolute_error(y_test , y_test_pred))\n",
    "\n",
    "\n",
    "print('Train r2_score ' , r2_score(y_train , y_train_pred))\n",
    "print('Test r2_score ' , r2_score(y_test , y_test_pred))"
   ]
  },
  {
   "cell_type": "code",
   "execution_count": null,
   "id": "4ba0f44e",
   "metadata": {},
   "outputs": [],
   "source": []
  }
 ],
 "metadata": {
  "kernelspec": {
   "display_name": "Python 3 (ipykernel)",
   "language": "python",
   "name": "python3"
  },
  "language_info": {
   "codemirror_mode": {
    "name": "ipython",
    "version": 3
   },
   "file_extension": ".py",
   "mimetype": "text/x-python",
   "name": "python",
   "nbconvert_exporter": "python",
   "pygments_lexer": "ipython3",
   "version": "3.7.11"
  }
 },
 "nbformat": 4,
 "nbformat_minor": 5
}
