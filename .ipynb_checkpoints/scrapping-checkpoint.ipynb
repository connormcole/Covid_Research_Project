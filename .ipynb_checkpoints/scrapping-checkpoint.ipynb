{
 "cells": [
  {
   "cell_type": "code",
   "execution_count": 1,
   "id": "8e9b243e",
   "metadata": {},
   "outputs": [],
   "source": [
    "import requests\n",
    "import pandas as pd\n",
    "from bs4 import BeautifulSoup\n",
    "import csv\n",
    "import io"
   ]
  },
  {
   "cell_type": "code",
   "execution_count": 2,
   "id": "84d583eb",
   "metadata": {},
   "outputs": [],
   "source": [
    "page = requests.get('https://www.littler.com/publication-press/publication/facing-your-face-mask-duties-list-statewide-orders')"
   ]
  },
  {
   "cell_type": "code",
   "execution_count": 3,
   "id": "dcfb61ee",
   "metadata": {},
   "outputs": [],
   "source": [
    "# Parse the HTML\n",
    "soup = BeautifulSoup(page.text, 'html.parser')"
   ]
  },
  {
   "cell_type": "code",
   "execution_count": 4,
   "id": "246dedd9",
   "metadata": {},
   "outputs": [],
   "source": [
    "rows = soup.find_all('tr')\n",
    "list_states = []\n",
    "for row in rows:         \n",
    "    instance = row.get_text()\n",
    "    list_states.append(instance)"
   ]
  },
  {
   "cell_type": "code",
   "execution_count": 5,
   "id": "47653f07",
   "metadata": {
    "scrolled": true
   },
   "outputs": [
    {
     "name": "stdout",
     "output_type": "stream",
     "text": [
      "                                                   0\n",
      "0  \\nJurisdiction\\n\\n\\nRequirement or Recommendat...\n",
      "1  \\nFederal\\n\\n\\nRequired in limited settings\\n\\...\n",
      "2  \\nAlabama\\n\\n\\nRecommendation\\n\\n\\nIndividuals...\n",
      "3  \\nAlaska\\n\\n\\nRecommendation\\n\\n\\nFace coverin...\n",
      "4  \\nArizona\\n\\n\\nRecommendation\\n\\n\\nFully vacci...\n",
      "5  \\nArkansas\\n\\n\\nRecommendation\\n\\n\\nIndividual...\n",
      "6  \\nCalifornia\\n\\n\\nRequired in limited settings...\n",
      "7  \\nColorado\\n\\n\\nRequired in limited settings\\n...\n",
      "8  \\nConnecticut\\n\\n\\nRequirement\\n\\n\\nAny person...\n",
      "9  \\nDelaware\\n\\n\\nRequired in limited settings\\n...\n"
     ]
    }
   ],
   "source": [
    "list_df = pd.DataFrame(list_states)\n",
    "print(list_df.head(10))"
   ]
  },
  {
   "cell_type": "code",
   "execution_count": 6,
   "id": "cf42661a",
   "metadata": {},
   "outputs": [
    {
     "data": {
      "text/html": [
       "<div>\n",
       "<style scoped>\n",
       "    .dataframe tbody tr th:only-of-type {\n",
       "        vertical-align: middle;\n",
       "    }\n",
       "\n",
       "    .dataframe tbody tr th {\n",
       "        vertical-align: top;\n",
       "    }\n",
       "\n",
       "    .dataframe thead th {\n",
       "        text-align: right;\n",
       "    }\n",
       "</style>\n",
       "<table border=\"1\" class=\"dataframe\">\n",
       "  <thead>\n",
       "    <tr style=\"text-align: right;\">\n",
       "      <th></th>\n",
       "      <th>0</th>\n",
       "      <th>v1</th>\n",
       "    </tr>\n",
       "  </thead>\n",
       "  <tbody>\n",
       "    <tr>\n",
       "      <th>0</th>\n",
       "      <td>\\nJurisdiction\\n\\n\\nRequirement or Recommendat...</td>\n",
       "      <td>Jurisdiction\\n\\n\\nRequirement or Recommendatio...</td>\n",
       "    </tr>\n",
       "    <tr>\n",
       "      <th>1</th>\n",
       "      <td>\\nFederal\\n\\n\\nRequired in limited settings\\n\\...</td>\n",
       "      <td>Federal\\n\\n\\nRequired in limited settings\\n\\n\\...</td>\n",
       "    </tr>\n",
       "    <tr>\n",
       "      <th>2</th>\n",
       "      <td>\\nAlabama\\n\\n\\nRecommendation\\n\\n\\nIndividuals...</td>\n",
       "      <td>Alabama\\n\\n\\nRecommendation\\n\\n\\nIndividuals a...</td>\n",
       "    </tr>\n",
       "    <tr>\n",
       "      <th>3</th>\n",
       "      <td>\\nAlaska\\n\\n\\nRecommendation\\n\\n\\nFace coverin...</td>\n",
       "      <td>Alaska\\n\\n\\nRecommendation\\n\\n\\nFace coverings...</td>\n",
       "    </tr>\n",
       "    <tr>\n",
       "      <th>4</th>\n",
       "      <td>\\nArizona\\n\\n\\nRecommendation\\n\\n\\nFully vacci...</td>\n",
       "      <td>Arizona\\n\\n\\nRecommendation\\n\\n\\nFully vaccina...</td>\n",
       "    </tr>\n",
       "  </tbody>\n",
       "</table>\n",
       "</div>"
      ],
      "text/plain": [
       "                                                   0  \\\n",
       "0  \\nJurisdiction\\n\\n\\nRequirement or Recommendat...   \n",
       "1  \\nFederal\\n\\n\\nRequired in limited settings\\n\\...   \n",
       "2  \\nAlabama\\n\\n\\nRecommendation\\n\\n\\nIndividuals...   \n",
       "3  \\nAlaska\\n\\n\\nRecommendation\\n\\n\\nFace coverin...   \n",
       "4  \\nArizona\\n\\n\\nRecommendation\\n\\n\\nFully vacci...   \n",
       "\n",
       "                                                  v1  \n",
       "0  Jurisdiction\\n\\n\\nRequirement or Recommendatio...  \n",
       "1  Federal\\n\\n\\nRequired in limited settings\\n\\n\\...  \n",
       "2  Alabama\\n\\n\\nRecommendation\\n\\n\\nIndividuals a...  \n",
       "3  Alaska\\n\\n\\nRecommendation\\n\\n\\nFace coverings...  \n",
       "4  Arizona\\n\\n\\nRecommendation\\n\\n\\nFully vaccina...  "
      ]
     },
     "execution_count": 6,
     "metadata": {},
     "output_type": "execute_result"
    }
   ],
   "source": [
    "list_df['v1'] = list_df[0].map(lambda x: x.lstrip('\\n').rstrip('\\n'))\n",
    "list_df.head()"
   ]
  },
  {
   "cell_type": "code",
   "execution_count": null,
   "id": "c8709820",
   "metadata": {},
   "outputs": [],
   "source": []
  }
 ],
 "metadata": {
  "kernelspec": {
   "display_name": "mlenv",
   "language": "python",
   "name": "mlenv"
  },
  "language_info": {
   "codemirror_mode": {
    "name": "ipython",
    "version": 3
   },
   "file_extension": ".py",
   "mimetype": "text/x-python",
   "name": "python",
   "nbconvert_exporter": "python",
   "pygments_lexer": "ipython3",
   "version": "3.7.11"
  }
 },
 "nbformat": 4,
 "nbformat_minor": 5
}
