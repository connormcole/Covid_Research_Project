{
 "cells": [
  {
   "cell_type": "code",
   "execution_count": 1,
   "id": "8e9b243e",
   "metadata": {},
   "outputs": [],
   "source": [
    "import requests\n",
    "import pandas as pd\n",
    "from bs4 import BeautifulSoup\n",
    "import csv\n",
    "import io"
   ]
  },
  {
   "cell_type": "code",
   "execution_count": 2,
   "id": "84d583eb",
   "metadata": {},
   "outputs": [],
   "source": [
    "page = requests.get('https://www.littler.com/publication-press/publication/facing-your-face-mask-duties-list-statewide-orders')"
   ]
  },
  {
   "cell_type": "code",
   "execution_count": 3,
   "id": "dcfb61ee",
   "metadata": {},
   "outputs": [],
   "source": [
    "# Parse the HTML\n",
    "soup = BeautifulSoup(page.text, 'html.parser')"
   ]
  },
  {
   "cell_type": "code",
   "execution_count": 4,
   "id": "246dedd9",
   "metadata": {},
   "outputs": [],
   "source": [
    "rows = soup.find_all('tr')\n",
    "list_states = []\n",
    "for row in rows:         \n",
    "    instance = row.get_text()\n",
    "    list_states.append(instance)"
   ]
  },
  {
   "cell_type": "code",
   "execution_count": 5,
   "id": "47653f07",
   "metadata": {
    "scrolled": true
   },
   "outputs": [
    {
     "name": "stdout",
     "output_type": "stream",
     "text": [
      "                                                   0\n",
      "0  \\nJurisdiction\\n\\n\\nRequirement or Recommendat...\n",
      "1  \\nFederal\\n\\n\\nRequired in limited settings\\n\\...\n",
      "2  \\nAlabama\\n\\n\\nRecommendation\\n\\n\\nIndividuals...\n",
      "3  \\nAlaska\\n\\n\\nRecommendation\\n\\n\\nFace coverin...\n",
      "4  \\nArizona\\n\\n\\nRecommendation\\n\\n\\nFully vacci...\n",
      "5  \\nArkansas\\n\\n\\nRecommendation\\n\\n\\nIndividual...\n",
      "6  \\nCalifornia\\n\\n\\nRequired in limited settings...\n",
      "7  \\nColorado\\n\\n\\nRequired in limited settings\\n...\n",
      "8  \\nConnecticut\\n\\n\\nRequirement\\n\\n\\nAny person...\n",
      "9  \\nDelaware\\n\\n\\nRequired in limited settings\\n...\n"
     ]
    }
   ],
   "source": [
    "list_df = pd.DataFrame(list_states)\n",
    "print(list_df.head(10))"
   ]
  },
  {
   "cell_type": "code",
   "execution_count": 6,
   "id": "cf42661a",
   "metadata": {},
   "outputs": [
    {
     "ename": "NameError",
     "evalue": "name 'list1_df' is not defined",
     "output_type": "error",
     "traceback": [
      "\u001b[1;31m---------------------------------------------------------------------------\u001b[0m",
      "\u001b[1;31mNameError\u001b[0m                                 Traceback (most recent call last)",
      "\u001b[1;32m~\\AppData\\Local\\Temp/ipykernel_21336/2152591942.py\u001b[0m in \u001b[0;36m<module>\u001b[1;34m\u001b[0m\n\u001b[1;32m----> 1\u001b[1;33m \u001b[0mlist1_df\u001b[0m\u001b[1;33m[\u001b[0m\u001b[1;34m'v1'\u001b[0m\u001b[1;33m]\u001b[0m \u001b[1;33m=\u001b[0m \u001b[0mlist_df\u001b[0m\u001b[1;33m[\u001b[0m\u001b[1;36m0\u001b[0m\u001b[1;33m]\u001b[0m\u001b[1;33m.\u001b[0m\u001b[0mmap\u001b[0m\u001b[1;33m(\u001b[0m\u001b[1;32mlambda\u001b[0m \u001b[0mx\u001b[0m\u001b[1;33m:\u001b[0m \u001b[0mx\u001b[0m\u001b[1;33m.\u001b[0m\u001b[0mlstrip\u001b[0m\u001b[1;33m(\u001b[0m\u001b[1;34m'\\n'\u001b[0m\u001b[1;33m)\u001b[0m\u001b[1;33m.\u001b[0m\u001b[0mrstrip\u001b[0m\u001b[1;33m(\u001b[0m\u001b[1;34m'\\n'\u001b[0m\u001b[1;33m)\u001b[0m\u001b[1;33m)\u001b[0m\u001b[1;33m\u001b[0m\u001b[1;33m\u001b[0m\u001b[0m\n\u001b[0m\u001b[0;32m      2\u001b[0m \u001b[0mlist1_df\u001b[0m\u001b[1;33m.\u001b[0m\u001b[0mhead\u001b[0m\u001b[1;33m(\u001b[0m\u001b[1;33m)\u001b[0m\u001b[1;33m\u001b[0m\u001b[1;33m\u001b[0m\u001b[0m\n",
      "\u001b[1;31mNameError\u001b[0m: name 'list1_df' is not defined"
     ]
    }
   ],
   "source": [
    "list_df['v1'] = list_df[0].map(lambda x: x.lstrip('\\n').rstrip('\\n'))\n",
    "list_df.head()"
   ]
  },
  {
   "cell_type": "code",
   "execution_count": null,
   "id": "c8709820",
   "metadata": {},
   "outputs": [],
   "source": []
  }
 ],
 "metadata": {
  "kernelspec": {
   "display_name": "mlenv",
   "language": "python",
   "name": "mlenv"
  },
  "language_info": {
   "codemirror_mode": {
    "name": "ipython",
    "version": 3
   },
   "file_extension": ".py",
   "mimetype": "text/x-python",
   "name": "python",
   "nbconvert_exporter": "python",
   "pygments_lexer": "ipython3",
   "version": "3.7.11"
  }
 },
 "nbformat": 4,
 "nbformat_minor": 5
}
